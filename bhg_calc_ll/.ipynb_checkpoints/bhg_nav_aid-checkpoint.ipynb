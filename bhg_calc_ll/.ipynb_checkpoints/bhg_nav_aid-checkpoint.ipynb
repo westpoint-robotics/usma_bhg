{
 "cells": [
  {
   "cell_type": "code",
   "execution_count": 1,
   "metadata": {},
   "outputs": [],
   "source": [
    "import os\n",
    "import matplotlib\n",
    "import matplotlib.pyplot as plt\n",
    "import matplotlib.lines as mlines\n",
    "import math\n",
    "from LatLongUTMconversion import LLtoUTM, UTMtoLL\n",
    "import mission_plan as mp"
   ]
  },
  {
   "cell_type": "code",
   "execution_count": 2,
   "metadata": {},
   "outputs": [],
   "source": [
    "# Function definitions\n",
    "\n",
    "def dist_2points(x1, y1, x2, y2):\n",
    "    distance = math.sqrt(((x1-x2)**2)+((y1-y2)**2))\n",
    "    return distance\n",
    "\n",
    "def get_offset_coords(x, y, slope, dist):\n",
    "    new_x = x + dist*math.sqrt( 1/(1+math.pow(slope,2)) )\n",
    "    new_y = y + slope*dist*math.sqrt( 1/(1+math.pow(slope,2)) )\n",
    "    return(new_x,new_y)"
   ]
  },
  {
   "cell_type": "code",
   "execution_count": 3,
   "metadata": {},
   "outputs": [],
   "source": [
    "#Original White line measurements in [lattitude, longitude]\n",
    "lane1_sp = [41.3907390,-73.9533992]\n",
    "lane1_ep = [41.3915678,-73.9529756]"
   ]
  },
  {
   "cell_type": "code",
   "execution_count": 4,
   "metadata": {},
   "outputs": [
    {
     "name": "stdout",
     "output_type": "stream",
     "text": [
      "('Zone: ', '18T')\n",
      "('Line start point: ', (587499.4842379672, 4582662.702454261))\n",
      "('Line  end  point: ', (587533.787291701, 4582755.143214812))\n",
      "('Distance between 2 points is: ', 98.60017092639066)\n"
     ]
    }
   ],
   "source": [
    "# Convert line coords to UTM and show distance\n",
    "(zone,easting,northing)=LLtoUTM(23, lane1_sp[0], lane1_sp[1])\n",
    "lane1_utm_sp = (easting,northing)\n",
    "\n",
    "(zone,easting,northing)=LLtoUTM(23, lane1_ep[0], lane1_ep[1])\n",
    "lane1_utm_ep = (easting,northing)\n",
    "\n",
    "print(\"Zone: \", zone)\n",
    "print(\"Line start point: \", lane1_utm_sp)\n",
    "print(\"Line  end  point: \", lane1_utm_ep)\n",
    "dist = dist_2points(lane1_utm_sp[0], lane1_utm_sp[1], lane1_utm_ep[0], lane1_utm_ep[1]) \n",
    "print(\"Distance between 2 points is: \", dist)"
   ]
  },
  {
   "cell_type": "code",
   "execution_count": 5,
   "metadata": {},
   "outputs": [
    {
     "name": "stdout",
     "output_type": "stream",
     "text": [
      "('The slope of the line is:', 2.694825984544903, '\\nThe perpendicular slope is: ', -0.37108147454978546)\n",
      "('Yaw in degrees:', 69.64104295165482)\n"
     ]
    }
   ],
   "source": [
    "# Compute slope and perpendicular slope\n",
    "lane1_slope = (lane1_utm_sp[1] - lane1_utm_ep[1]) / (lane1_utm_sp[0] - lane1_utm_ep[0])\n",
    "line_slope = -1/lane1_slope\n",
    "print(\"The slope of the line is:\", lane1_slope, \"\\nThe perpendicular slope is: \",(-1/lane1_slope))\n",
    "yaw = math.atan(lane1_slope)\n",
    "print(\"Yaw in degrees:\", yaw*180/math.pi)"
   ]
  },
  {
   "cell_type": "code",
   "execution_count": 6,
   "metadata": {},
   "outputs": [],
   "source": [
    "# Mission parameters\n",
    "altitude = 10           # in meters\n",
    "speed = 3.0             # in m/s\n",
    "cam_mount_angle = 60    # in degrees\n",
    "cam_fov = 60.6          # in degrees"
   ]
  },
  {
   "cell_type": "code",
   "execution_count": 7,
   "metadata": {},
   "outputs": [
    {
     "name": "stdout",
     "output_type": "stream",
     "text": [
      "('The offset distance is:', 2.693526641837618, 'm (FOV:', 60.6, 'deg.,', 60.3, 'deg.)')\n"
     ]
    }
   ],
   "source": [
    "# Compute offset from the line\n",
    "angle = (90 - cam_mount_angle + cam_fov /2)\n",
    "angle_rad = (angle*math.pi/180)\n",
    "dist = altitude * math.tan(0.25 * angle_rad) # 0.25 is to get 1/4th of fov on road. \n",
    "print(\"The offset distance is:\",dist, \"m (FOV:\",cam_fov, \"deg.,\", angle,\"deg.)\")"
   ]
  },
  {
   "cell_type": "code",
   "execution_count": 8,
   "metadata": {},
   "outputs": [
    {
     "name": "stdout",
     "output_type": "stream",
     "text": [
      "('wp1:', 41.3907303, -73.9533691)\n",
      "('wp2:', 41.3915591, -73.9529455)\n",
      "('wp3 ', 41.3915765, -73.9530057)\n",
      "('wp4 ', 41.3907477, -73.9534293)\n",
      "(587499.4842379672, 4582662.702454261)\n"
     ]
    }
   ],
   "source": [
    "pnt_1 = get_offset_coords(lane1_utm_sp[0],lane1_utm_sp[1],line_slope,dist)\n",
    "pnt_2 = get_offset_coords(lane1_utm_ep[0],lane1_utm_ep[1],line_slope,dist)\n",
    "pnt_3 = get_offset_coords(lane1_utm_ep[0],lane1_utm_ep[1],line_slope,(-1*dist))\n",
    "pnt_4 = get_offset_coords(lane1_utm_sp[0],lane1_utm_sp[1],line_slope,(-1*dist))\n",
    "\n",
    "ll_pt1 = UTMtoLL(23, pnt_1[1], pnt_1[0], '18T')\n",
    "ll_pt2 = UTMtoLL(23, pnt_2[1], pnt_2[0], '18T')\n",
    "ll_pt3 = UTMtoLL(23, pnt_3[1], pnt_3[0], '18T')\n",
    "ll_pt4 = UTMtoLL(23, pnt_4[1], pnt_4[0], '18T')\n",
    "\n",
    "print(\"wp1:\",ll_pt1[0],ll_pt1[1])\n",
    "print(\"wp2:\",ll_pt2[0],ll_pt2[1])\n",
    "print(\"wp3 \",ll_pt3[0],ll_pt3[1])\n",
    "print(\"wp4 \",ll_pt4[0],ll_pt4[1])\n",
    "print(lane1_utm_sp)"
   ]
  },
  {
   "cell_type": "code",
   "execution_count": 9,
   "metadata": {},
   "outputs": [
    {
     "name": "stdout",
     "output_type": "stream",
     "text": [
      "(41.3907303, -73.9533691)\n"
     ]
    }
   ],
   "source": [
    "print(ll_pt1)"
   ]
  },
  {
   "cell_type": "code",
   "execution_count": 10,
   "metadata": {
    "scrolled": true
   },
   "outputs": [
    {
     "data": {
      "text/plain": [
       "[<matplotlib.lines.Line2D at 0x7f583d3dfa10>]"
      ]
     },
     "execution_count": 10,
     "metadata": {},
     "output_type": "execute_result"
    },
    {
     "data": {
      "image/png": "[encoded data removed]",
      "text/plain": [
       "<matplotlib.figure.Figure at 0x7f583d3df5d0>"
      ]
     },
     "metadata": {
      "needs_background": "light"
     },
     "output_type": "display_data"
    }
   ],
   "source": [
    "plt.figure(1) \n",
    "plt.axis('equal')    \n",
    "#plt.gca().add_line(mlines.Line2D([lane1_sp[0],lane1_sp[1]], [lane1_ep[0],lane1_ep[1]]))\n",
    "plt.plot([lane1_sp[0],lane1_ep[0]], [lane1_sp[1],lane1_ep[1]], marker='*',color='blue')\n",
    "plt.plot(ll_pt1[0],ll_pt1[1], 'r.')\n",
    "plt.plot(ll_pt2[0],ll_pt2[1], 'r.')\n",
    "plt.plot(ll_pt3[0],ll_pt3[1], 'r.')\n",
    "plt.plot(ll_pt4[0],ll_pt4[1], 'r.')\n"
   ]
  },
  {
   "cell_type": "code",
   "execution_count": 11,
   "metadata": {
    "scrolled": true
   },
   "outputs": [
    {
     "name": "stdout",
     "output_type": "stream",
     "text": [
      "('Waypoints are: ', [[41.3907303, -73.9533691, 10, 3], [41.3915591, -73.9529455, 10, 2], [41.3915765, -73.9530057, 10, 3], [41.3915765, -73.9530057, 10, 5], [41.3907477, -73.9534293, 10, 0]])\n",
      "{\r\n",
      "    \"fileType\": \"Plan\",\r\n",
      "    \"geoFence\": {\r\n",
      "        \"circles\": [\r\n",
      "        ],\r\n",
      "        \"polygons\": [\r\n",
      "        ],\r\n",
      "        \"version\": 2\r\n",
      "    },\r\n",
      "    \"groundStation\": \"QGroundControl\",\r\n",
      "    \"mission\": {\r\n",
      "        \"cruiseSpeed\": 15,\r\n",
      "        \"firmwareType\": 3,\r\n",
      "        \"hoverSpeed\": 3.0,\r\n",
      "        \"items\": [\r\n",
      "            {\r\n",
      "                \"autoContinue\": true,\r\n",
      "                \"command\": 115,\r\n",
      "                \"doJumpId\": 1,\r\n",
      "                \"frame\": 0,\r\n",
      "                \"params\": [\r\n",
      "                    289,\r\n",
      "                    5,\r\n",
      "                    1,\r\n",
      "                    0,\r\n",
      "                    0,\r\n",
      "                    0,\r\n",
      "                    0\r\n",
      "                ],\r\n",
      "                \"type\": \"SimpleItem\"\r\n",
      "            },\r\n",
      "            {\r\n",
      "                \"AMSLAltAboveTerrain\": null,\r\n",
      "                \"Altitude\": 10,\r\n",
      "                \"AltitudeMode\": 1,\r\n",
      "                \"autoContinue\": true,\r\n",
      "                \"command\": 16,\r\n",
      "                \"doJumpId\": 2,\r\n",
      "                \"frame\": 3,\r\n",
      "                \"params\": [\r\n",
      "                    3,\r\n",
      "                    0,\r\n",
      "                    0,\r\n",
      "                    0,\r\n",
      "                    41.3907303,\r\n",
      "                    -73.9533691,\r\n",
      "                    10\r\n",
      "                ],\r\n",
      "                \"type\": \"SimpleItem\"\r\n",
      "            },\r\n",
      "            {\r\n",
      "                \"autoContinue\": true,\r\n",
      "                \"command\": 178,\r\n",
      "                \"doJumpId\": 3,\r\n",
      "                \"frame\": 2,\r\n",
      "                \"params\": [\r\n",
      "                    1,\r\n",
      "                    3.0,\r\n",
      "                    -1,\r\n",
      "                    0,\r\n",
      "                    0,\r\n",
      "                    0,\r\n",
      "                    0\r\n",
      "                ],\r\n",
      "                \"type\": \"SimpleItem\"\r\n",
      "            },\r\n",
      "            {\r\n",
      "                \"AMSLAltAboveTerrain\": null,\r\n",
      "                \"Altitude\": 10,\r\n",
      "                \"AltitudeMode\": 1,\r\n",
      "                \"autoContinue\": true,\r\n",
      "                \"command\": 16,\r\n",
      "                \"doJumpId\": 3,\r\n",
      "                \"frame\": 3,\r\n",
      "                \"params\": [\r\n",
      "                    2,\r\n",
      "                    0,\r\n",
      "                    0,\r\n",
      "                    0,\r\n",
      "                    41.3915591,\r\n",
      "                    -73.9529455,\r\n",
      "                    10\r\n",
      "                ],\r\n",
      "                \"type\": \"SimpleItem\"\r\n",
      "            },\r\n",
      "            {\r\n",
      "                \"AMSLAltAboveTerrain\": null,\r\n",
      "                \"Altitude\": 10,\r\n",
      "                \"AltitudeMode\": 1,\r\n",
      "                \"autoContinue\": true,\r\n",
      "                \"command\": 16,\r\n",
      "                \"doJumpId\": 4,\r\n",
      "                \"frame\": 3,\r\n",
      "                \"params\": [\r\n",
      "                    3,\r\n",
      "                    0,\r\n",
      "                    0,\r\n",
      "                    0,\r\n",
      "                    41.3915765,\r\n",
      "                    -73.9530057,\r\n",
      "                    10\r\n",
      "                ],\r\n",
      "                \"type\": \"SimpleItem\"\r\n",
      "            },\r\n",
      "            {\r\n",
      "                \"autoContinue\": true,\r\n",
      "                \"command\": 115,\r\n",
      "                \"doJumpId\": 5,\r\n",
      "                \"frame\": 0,\r\n",
      "                \"params\": [\r\n",
      "                    180,\r\n",
      "                    5,\r\n",
      "                    -1,\r\n",
      "                    1,\r\n",
      "                    0,\r\n",
      "                    0,\r\n",
      "                    0\r\n",
      "                ],\r\n",
      "                \"type\": \"SimpleItem\"\r\n",
      "            },\r\n",
      "            {\r\n",
      "                \"AMSLAltAboveTerrain\": null,\r\n",
      "                \"Altitude\": 10,\r\n",
      "                \"AltitudeMode\": 1,\r\n",
      "                \"autoContinue\": true,\r\n",
      "                \"command\": 16,\r\n",
      "                \"doJumpId\": 6,\r\n",
      "                \"frame\": 3,\r\n",
      "                \"params\": [\r\n",
      "                    5,\r\n",
      "                    0,\r\n",
      "                    0,\r\n",
      "                    0,\r\n",
      "                    41.3915765,\r\n",
      "                    -73.9530057,\r\n",
      "                    10\r\n",
      "                ],\r\n",
      "                \"type\": \"SimpleItem\"\r\n",
      "            },\r\n",
      "            {\r\n",
      "                \"AMSLAltAboveTerrain\": null,\r\n",
      "                \"Altitude\": 10,\r\n",
      "                \"AltitudeMode\": 1,\r\n",
      "                \"autoContinue\": true,\r\n",
      "                \"command\": 16,\r\n",
      "                \"doJumpId\": 7,\r\n",
      "                \"frame\": 3,\r\n",
      "                \"params\": [\r\n",
      "                    0,\r\n",
      "                    0,\r\n",
      "                    0,\r\n",
      "                    0,\r\n",
      "                    41.3907477,\r\n",
      "                    -73.9534293,\r\n",
      "                    10\r\n",
      "                ],\r\n",
      "                \"type\": \"SimpleItem\"\r\n",
      "            }\r\n",
      "        ],\r\n",
      "        \"plannedHomePosition\": [\r\n",
      "            41.3802304,\r\n",
      "            -73.9723826,\r\n",
      "            228\r\n",
      "        ],\r\n",
      "        \"vehicleType\": 2,\r\n",
      "        \"version\": 2\r\n",
      "    },\r\n",
      "    \"rallyPoints\": {\r\n",
      "        \"points\": [\r\n",
      "        ],\r\n",
      "        \"version\": 2\r\n",
      "    },\r\n",
      "    \"version\": 1\r\n",
      "}\n"
     ]
    }
   ],
   "source": [
    "yaw = 289\n",
    "wp1 = [ll_pt1[0],ll_pt1[1],altitude,3]\n",
    "wp2 = [ll_pt2[0],ll_pt2[1],altitude,2] \n",
    "wp3 = [ll_pt3[0],ll_pt3[1],altitude,3] \n",
    "wp4 = [ll_pt3[0],ll_pt3[1],altitude,5] \n",
    "wp5 = [ll_pt4[0],ll_pt4[1],altitude,0]\n",
    "waypoints = [wp1,wp2,wp3,wp4,wp5]\n",
    "\n",
    "with open('bhg_flight.plan', 'w') as f:\n",
    "    plan = mp.make_plan(waypoints,speed,yaw)\n",
    "    print(plan)\n",
    "    f.write(plan)"
   ]
  },
  {
   "cell_type": "code",
   "execution_count": null,
   "metadata": {},
   "outputs": [],
   "source": []
  },
  {
   "cell_type": "code",
   "execution_count": null,
   "metadata": {},
   "outputs": [],
   "source": []
  },
  {
   "cell_type": "code",
   "execution_count": null,
   "metadata": {},
   "outputs": [],
   "source": []
  },
  {
   "cell_type": "code",
   "execution_count": null,
   "metadata": {},
   "outputs": [],
   "source": []
  },
  {
   "cell_type": "code",
   "execution_count": null,
   "metadata": {},
   "outputs": [],
   "source": []
  },
  {
   "cell_type": "code",
   "execution_count": null,
   "metadata": {},
   "outputs": [],
   "source": []
  }
 ],
 "metadata": {
  "kernelspec": {
   "display_name": "Python 2",
   "language": "python",
   "name": "python2"
  },
  "language_info": {
   "codemirror_mode": {
    "name": "ipython",
    "version": 2
   },
   "file_extension": ".py",
   "mimetype": "text/x-python",
   "name": "python",
   "nbconvert_exporter": "python",
   "pygments_lexer": "ipython2",
   "version": "2.7.17"
  }
 },
 "nbformat": 4,
 "nbformat_minor": 2
}
