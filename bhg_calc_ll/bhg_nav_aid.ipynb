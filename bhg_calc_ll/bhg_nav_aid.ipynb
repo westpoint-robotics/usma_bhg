{
 "cells": [
  {
   "cell_type": "code",
   "execution_count": 2,
   "metadata": {},
   "outputs": [],
   "source": [
    "from LatLongUTMconversion import LLtoUTM, UTMtoLL\n",
    "import matplotlib\n",
    "import matplotlib.pyplot as plt\n",
    "import math\n",
    "\n"
   ]
  },
  {
   "cell_type": "code",
   "execution_count": 48,
   "metadata": {},
   "outputs": [],
   "source": [
    "# Constants\n",
    "#Original White line measurements\n",
    "lane1_sp = [41.3907390,-73.9533992]\n",
    "#lane1_sp = [41.3908234,-73.9533321] #not sp but tape measure center\n",
    "lane1_mp = [41.3911455,-73.9531820]\n",
    "lane1_ep = [41.3915678,-73.9529756]\n",
    "lane2_sp = [41.3906740,-73.9532092]\n",
    "lane2_mp = [41.3910964,-73.9530032]\n",
    "lane2_ep = [41.3915340,-73.9528435]\n",
    "\n",
    "lane1_sp = [41.3907016,-73.9533907]\n",
    "lane1_mp = [41.3911455,-73.9531820]\n",
    "lane1_ep = [41.3915598,-73.9529776]\n",
    "lane2_sp = [41.3906740,-73.9532092]\n",
    "lane2_mp = [41.3910964,-73.9530032]\n",
    "lane2_ep = [41.3915340,-73.9528435]\n",
    "\n",
    "\n",
    "altitude = 20 # in meters\n",
    "cam_mount_angle = 60 # in degrees\n",
    "cam_fov = 60.6 # in degrees\n",
    "\n"
   ]
  },
  {
   "cell_type": "code",
   "execution_count": 49,
   "metadata": {},
   "outputs": [
    {
     "name": "stdout",
     "output_type": "stream",
     "text": [
      "The offset distance should be:  5.387053283675236 m (FOV: 60.6 deg., 60.3 deg.)\n"
     ]
    }
   ],
   "source": [
    "angle = (90 - cam_mount_angle + cam_fov /2)\n",
    "angle_rad = (angle*math.pi/180)\n",
    "dist = altitude * math.tan(0.25 * angle_rad) # 0.25 is to get 1/4th of fov on road. \n",
    "print(\"The offset distance should be: \",dist, \"m (FOV:\",cam_fov, \"deg.,\", angle,\"deg.)\")"
   ]
  },
  {
   "cell_type": "markdown",
   "metadata": {},
   "source": []
  },
  {
   "cell_type": "code",
   "execution_count": 50,
   "metadata": {},
   "outputs": [
    {
     "name": "stdout",
     "output_type": "stream",
     "text": [
      "18T\n"
     ]
    }
   ],
   "source": [
    "lane1_eastings = []\n",
    "lane2_eastings = []\n",
    "lane1_northings = []\n",
    "lane2_northings = []\n",
    "(zone,easting,northing)=LLtoUTM(23, lane1_sp[0], lane1_sp[1])\n",
    "lane1_eastings.append(easting)\n",
    "lane1_northings.append(northing)\n",
    "(zone,easting,northing)=LLtoUTM(23, lane1_mp[0], lane1_mp[1])\n",
    "lane1_eastings.append(easting)\n",
    "lane1_northings.append(northing)\n",
    "(zone,easting,northing)=LLtoUTM(23, lane1_ep[0], lane1_ep[1])\n",
    "lane1_eastings.append(easting)\n",
    "lane1_northings.append(northing)\n",
    "(zone,easting,northing)=LLtoUTM(23, lane2_sp[0], lane2_sp[1])\n",
    "lane2_eastings.append(easting)\n",
    "lane2_northings.append(northing)\n",
    "(zone,easting,northing)=LLtoUTM(23, lane2_mp[0], lane2_mp[1])\n",
    "lane2_eastings.append(easting)\n",
    "lane2_northings.append(northing)\n",
    "(zone,easting,northing)=LLtoUTM(23, lane2_ep[0], lane2_ep[1])\n",
    "lane2_eastings.append(easting)\n",
    "lane2_northings.append(northing)\n",
    "print(zone)"
   ]
  },
  {
   "cell_type": "code",
   "execution_count": 51,
   "metadata": {},
   "outputs": [],
   "source": [
    "def get_offset_coords(x, y, slope, dist):\n",
    "    new_x = x + dist*math.sqrt( 1/(1+math.pow(slope,2)) )\n",
    "    new_y = y + slope*dist*math.sqrt( 1/(1+math.pow(slope,2)) )\n",
    "    return(new_x,new_y)"
   ]
  },
  {
   "cell_type": "code",
   "execution_count": 52,
   "metadata": {},
   "outputs": [
    {
     "name": "stdout",
     "output_type": "stream",
     "text": [
      "2.866313504418538 -0.34888018999263676\n",
      "Yaw:  70.76713220051502\n",
      "wp1:  41.3906851 -73.9533301\n",
      "wp2:  41.3915433 -73.952917\n",
      "wp3  41.3915763 -73.9530382\n",
      "wp4  41.3907181 -73.9534513\n"
     ]
    }
   ],
   "source": [
    "lane1_slope = (lane1_northings[0] - lane1_northings[2]) / (lane1_eastings[0] - lane1_eastings[2])\n",
    "line_slope = -1/lane1_slope\n",
    "print(lane1_slope, (-1/lane1_slope))\n",
    "yaw = math.atan(lane1_slope)\n",
    "print(\"Yaw: \" , yaw*180/math.pi)\n",
    "\n",
    "\n",
    "pnt_x = lane1_eastings[0]\n",
    "pnt_y = lane1_northings[0]\n",
    "pnt_1 = get_offset_coords(lane1_eastings[0],lane1_northings[0],line_slope,dist)\n",
    "pnt_2 = get_offset_coords(lane1_eastings[0],lane1_northings[0],line_slope,(-1*dist))\n",
    "pnt_3 = get_offset_coords(lane1_eastings[2],lane1_northings[2],line_slope,dist)\n",
    "pnt_4 = get_offset_coords(lane1_eastings[2],lane1_northings[2],line_slope,(-1*dist))\n",
    "\n",
    "ll_pt1 = UTMtoLL(23, pnt_1[1], pnt_1[0], '18T')\n",
    "ll_pt2 = UTMtoLL(23, pnt_2[1], pnt_2[0], '18T')\n",
    "ll_pt3 = UTMtoLL(23, pnt_3[1], pnt_3[0], '18T')\n",
    "ll_pt4 = UTMtoLL(23, pnt_4[1], pnt_4[0], '18T')\n",
    "\n",
    "print(\"wp1:\",ll_pt1[0],ll_pt1[1])\n",
    "print(\"wp2:\",ll_pt3[0],ll_pt3[1])\n",
    "print(\"wp3 \",ll_pt4[0],ll_pt4[1])\n",
    "print(\"wp4 \",ll_pt2[0],ll_pt2[1])"
   ]
  },
  {
   "cell_type": "code",
   "execution_count": 47,
   "metadata": {},
   "outputs": [
    {
     "data": {
      "text/plain": [
       "[<matplotlib.lines.Line2D at 0x7f5cd3104550>]"
      ]
     },
     "execution_count": 47,
     "metadata": {},
     "output_type": "execute_result"
    },
    {
     "data": {
      "image/png": "[encoded data removed]",
      "text/plain": [
       "<Figure size 432x288 with 1 Axes>"
      ]
     },
     "metadata": {
      "needs_background": "light"
     },
     "output_type": "display_data"
    }
   ],
   "source": [
    "pt_ll = (41.3907400, -73.9533847)\n",
    "or_ll = (41.3907232, -73.9533806)\n",
    "(zone,easting1,northing1)=LLtoUTM(23, pt_ll[0], pt_ll[1])\n",
    "\n",
    "(zone,easting0,northing0)=LLtoUTM(23, or_ll[0], or_ll[1])\n",
    "plt.figure(1) \n",
    "plt.axis('equal')\n",
    "#plt.plot(lane2_eastings,lane2_northings, 'r.') \n",
    "plt.plot(easting1,northing1, 'b.')\n",
    "plt.plot(easting0,northing0, 'b.')\n"
   ]
  },
  {
   "cell_type": "code",
   "execution_count": null,
   "metadata": {},
   "outputs": [],
   "source": [
    "# at 10 meters\n",
    "# 2.812883718220223 -0.35550705261030957\n",
    "# Yaw:  70.42934132856371\n",
    "# wp1:  41.3907148 -73.9533504\n",
    "# wp2:  41.3907316 -73.9534108\n",
    "# wp3:  41.3915595 -73.9529363\n",
    "# wp4:  41.3915763 -73.9529967\n",
    "\n",
    "# at 20 meters\n",
    "# 2.812883718220223 -0.35550705261030957\n",
    "# Yaw:  70.42934132856371\n",
    "# wp1:  41.3907064 -73.9533202\n",
    "# wp2:  41.3915511 -73.9529061\n",
    "# wp3  41.3915847 -73.9530269\n",
    "# wp4  41.39074 -73.953441"
   ]
  },
  {
   "cell_type": "code",
   "execution_count": 37,
   "metadata": {},
   "outputs": [
    {
     "name": "stdout",
     "output_type": "stream",
     "text": [
      "2.812883718220223 -0.35550705261030957\n",
      "Yaw:  70.42934132856371\n",
      "wp1:  41.3907148 -73.9533504\n",
      "wp2:  41.3907316 -73.9534108\n",
      "wp3:  41.3915595 -73.9529363\n",
      "wp4:  41.3915763 -73.9529967\n"
     ]
    }
   ],
   "source": [
    "lane1_slope = (lane1_northings[0] - lane1_northings[2]) / (lane1_eastings[0] - lane1_eastings[2])\n",
    "line_slope = -1/lane1_slope\n",
    "print(lane1_slope, (-1/lane1_slope))\n",
    "yaw = math.atan(lane1_slope)\n",
    "print(\"Yaw: \" , yaw*180/math.pi)\n",
    "\n",
    "\n",
    "pnt_x = lane1_eastings[0]\n",
    "pnt_y = lane1_northings[0]\n",
    "pnt_1 = get_offset_coords(lane1_eastings[0],lane1_northings[0],line_slope,dist)\n",
    "pnt_2 = get_offset_coords(lane1_eastings[0],lane1_northings[0],line_slope,(-1*dist))\n",
    "pnt_3 = get_offset_coords(lane1_eastings[2],lane1_northings[2],line_slope,dist)\n",
    "pnt_4 = get_offset_coords(lane1_eastings[2],lane1_northings[2],line_slope,(-1*dist))\n",
    "\n",
    "ll_pt1 = UTMtoLL(23, pnt_1[1], pnt_1[0], '18T')\n",
    "ll_pt2 = UTMtoLL(23, pnt_2[1], pnt_2[0], '18T')\n",
    "ll_pt3 = UTMtoLL(23, pnt_3[1], pnt_3[0], '18T')\n",
    "ll_pt4 = UTMtoLL(23, pnt_4[1], pnt_4[0], '18T')\n",
    "\n",
    "print(\"wp1: \",ll_pt1[0],ll_pt1[1])\n",
    "print(\"wp2: \",ll_pt2[0],ll_pt2[1])\n",
    "print(\"wp3: \",ll_pt3[0],ll_pt3[1])\n",
    "print(\"wp4: \",ll_pt4[0],ll_pt4[1])"
   ]
  },
  {
   "cell_type": "code",
   "execution_count": 38,
   "metadata": {},
   "outputs": [
    {
     "data": {
      "image/png": "[encoded data removed]",
      "text/plain": [
       "<Figure size 432x288 with 1 Axes>"
      ]
     },
     "metadata": {
      "needs_background": "light"
     },
     "output_type": "display_data"
    }
   ],
   "source": [
    "plt.figure(1) \n",
    "plt.axis('equal')\n",
    "plt.plot(lane1_eastings,lane1_northings, 'g.')\n",
    "#plt.plot(lane2_eastings,lane2_northings, 'r.') \n",
    "plt.plot(pnt_1[0],pnt_1[1], 'b.')\n",
    "plt.plot(pnt_2[0],pnt_2[1], 'b.')\n",
    "plt.plot(pnt_3[0],pnt_3[1], 'b.')\n",
    "plt.plot(pnt_4[0],pnt_4[1], 'b.')\n",
    "plt.show()"
   ]
  },
  {
   "cell_type": "code",
   "execution_count": null,
   "metadata": {},
   "outputs": [],
   "source": []
  },
  {
   "cell_type": "code",
   "execution_count": null,
   "metadata": {},
   "outputs": [],
   "source": []
  },
  {
   "cell_type": "code",
   "execution_count": null,
   "metadata": {},
   "outputs": [],
   "source": []
  },
  {
   "cell_type": "code",
   "execution_count": null,
   "metadata": {},
   "outputs": [],
   "source": []
  },
  {
   "cell_type": "code",
   "execution_count": null,
   "metadata": {},
   "outputs": [],
   "source": []
  }
 ],
 "metadata": {
  "kernelspec": {
   "display_name": "Python 3",
   "language": "python",
   "name": "python3"
  },
  "language_info": {
   "codemirror_mode": {
    "name": "ipython",
    "version": 3
   },
   "file_extension": ".py",
   "mimetype": "text/x-python",
   "name": "python",
   "nbconvert_exporter": "python",
   "pygments_lexer": "ipython3",
   "version": "3.5.2"
  }
 },
 "nbformat": 4,
 "nbformat_minor": 2
}
