{
 "cells": [
  {
   "cell_type": "code",
   "execution_count": 2,
   "metadata": {},
   "outputs": [],
   "source": [
    "import os\n",
    "import sys\n",
    "import time\n",
    "import matplotlib\n",
    "import matplotlib.pyplot as plt\n",
    "import matplotlib.lines as mlines\n",
    "import math\n",
    "from LatLongUTMconversion import LLtoUTM, UTMtoLL\n",
    "import mission_plan as mp\n",
    "from pymavlink import mavutil"
   ]
  },
  {
   "cell_type": "code",
   "execution_count": 3,
   "metadata": {},
   "outputs": [],
   "source": [
    "# Function definitions\n",
    "\n",
    "def dist_2points(x1, y1, x2, y2):\n",
    "    distance = math.sqrt(((x1-x2)**2)+((y1-y2)**2))\n",
    "    return distance\n",
    "\n",
    "def get_offset_coords(x, y, slope, dist):\n",
    "    new_x = x + dist*math.sqrt( 1/(1+math.pow(slope,2)) )\n",
    "    new_y = y + slope*dist*math.sqrt( 1/(1+math.pow(slope,2)) )\n",
    "    return(new_x,new_y)"
   ]
  },
  {
   "cell_type": "code",
   "execution_count": 4,
   "metadata": {},
   "outputs": [
    {
     "ename": "FileNotFoundError",
     "evalue": "[Errno 2] No such file or directory: '0001.bin'",
     "output_type": "error",
     "traceback": [
      "\u001b[0;31m---------------------------------------------------------------------------\u001b[0m",
      "\u001b[0;31mFileNotFoundError\u001b[0m                         Traceback (most recent call last)",
      "\u001b[0;32m<ipython-input-4-04f8742bd01e>\u001b[0m in \u001b[0;36m<module>\u001b[0;34m\u001b[0m\n\u001b[1;32m      5\u001b[0m mlog = mavutil.mavlink_connection(filename, planner_format=True,\n\u001b[1;32m      6\u001b[0m                                   \u001b[0mnotimestamps\u001b[0m\u001b[0;34m=\u001b[0m\u001b[0;32mTrue\u001b[0m\u001b[0;34m,\u001b[0m\u001b[0;34m\u001b[0m\u001b[0m\n\u001b[0;32m----> 7\u001b[0;31m                                   robust_parsing=True)\n\u001b[0m\u001b[1;32m      8\u001b[0m \u001b[0;34m\u001b[0m\u001b[0m\n\u001b[1;32m      9\u001b[0m \u001b[0;32mwhile\u001b[0m \u001b[0;32mTrue\u001b[0m\u001b[0;34m:\u001b[0m\u001b[0;34m\u001b[0m\u001b[0m\n",
      "\u001b[0;32m~/.local/lib/python3.5/site-packages/pymavlink/mavutil.py\u001b[0m in \u001b[0;36mmavlink_connection\u001b[0;34m(device, baud, source_system, source_component, planner_format, write, append, robust_parsing, notimestamps, input, dialect, autoreconnect, zero_time_base, retries, use_native, force_connected, progress_callback)\u001b[0m\n\u001b[1;32m   1654\u001b[0m         \u001b[0;31m# support dataflash logs\u001b[0m\u001b[0;34m\u001b[0m\u001b[0;34m\u001b[0m\u001b[0m\n\u001b[1;32m   1655\u001b[0m         \u001b[0;32mfrom\u001b[0m \u001b[0mpymavlink\u001b[0m \u001b[0;32mimport\u001b[0m \u001b[0mDFReader\u001b[0m\u001b[0;34m\u001b[0m\u001b[0m\n\u001b[0;32m-> 1656\u001b[0;31m         \u001b[0mm\u001b[0m \u001b[0;34m=\u001b[0m \u001b[0mDFReader\u001b[0m\u001b[0;34m.\u001b[0m\u001b[0mDFReader_binary\u001b[0m\u001b[0;34m(\u001b[0m\u001b[0mdevice\u001b[0m\u001b[0;34m,\u001b[0m \u001b[0mzero_time_base\u001b[0m\u001b[0;34m=\u001b[0m\u001b[0mzero_time_base\u001b[0m\u001b[0;34m,\u001b[0m \u001b[0mprogress_callback\u001b[0m\u001b[0;34m=\u001b[0m\u001b[0mprogress_callback\u001b[0m\u001b[0;34m)\u001b[0m\u001b[0;34m\u001b[0m\u001b[0m\n\u001b[0m\u001b[1;32m   1657\u001b[0m         \u001b[0mmavfile_global\u001b[0m \u001b[0;34m=\u001b[0m \u001b[0mm\u001b[0m\u001b[0;34m\u001b[0m\u001b[0m\n\u001b[1;32m   1658\u001b[0m         \u001b[0;32mreturn\u001b[0m \u001b[0mm\u001b[0m\u001b[0;34m\u001b[0m\u001b[0m\n",
      "\u001b[0;32m~/.local/lib/python3.5/site-packages/pymavlink/DFReader.py\u001b[0m in \u001b[0;36m__init__\u001b[0;34m(self, filename, zero_time_base, progress_callback)\u001b[0m\n\u001b[1;32m    691\u001b[0m         \u001b[0mDFReader\u001b[0m\u001b[0;34m.\u001b[0m\u001b[0m__init__\u001b[0m\u001b[0;34m(\u001b[0m\u001b[0mself\u001b[0m\u001b[0;34m)\u001b[0m\u001b[0;34m\u001b[0m\u001b[0m\n\u001b[1;32m    692\u001b[0m         \u001b[0;31m# read the whole file into memory for simplicity\u001b[0m\u001b[0;34m\u001b[0m\u001b[0;34m\u001b[0m\u001b[0m\n\u001b[0;32m--> 693\u001b[0;31m         \u001b[0mself\u001b[0m\u001b[0;34m.\u001b[0m\u001b[0mfilehandle\u001b[0m \u001b[0;34m=\u001b[0m \u001b[0mopen\u001b[0m\u001b[0;34m(\u001b[0m\u001b[0mfilename\u001b[0m\u001b[0;34m,\u001b[0m \u001b[0;34m'rb'\u001b[0m\u001b[0;34m)\u001b[0m\u001b[0;34m\u001b[0m\u001b[0m\n\u001b[0m\u001b[1;32m    694\u001b[0m         \u001b[0mself\u001b[0m\u001b[0;34m.\u001b[0m\u001b[0mfilehandle\u001b[0m\u001b[0;34m.\u001b[0m\u001b[0mseek\u001b[0m\u001b[0;34m(\u001b[0m\u001b[0;36m0\u001b[0m\u001b[0;34m,\u001b[0m \u001b[0;36m2\u001b[0m\u001b[0;34m)\u001b[0m\u001b[0;34m\u001b[0m\u001b[0m\n\u001b[1;32m    695\u001b[0m         \u001b[0mself\u001b[0m\u001b[0;34m.\u001b[0m\u001b[0mdata_len\u001b[0m \u001b[0;34m=\u001b[0m \u001b[0mself\u001b[0m\u001b[0;34m.\u001b[0m\u001b[0mfilehandle\u001b[0m\u001b[0;34m.\u001b[0m\u001b[0mtell\u001b[0m\u001b[0;34m(\u001b[0m\u001b[0;34m)\u001b[0m\u001b[0;34m\u001b[0m\u001b[0m\n",
      "\u001b[0;31mFileNotFoundError\u001b[0m: [Errno 2] No such file or directory: '0001.bin'"
     ]
    }
   ],
   "source": [
    "# allow import from the parent directory, where mavlink.py is\n",
    "# sys.path.insert(0, os.path.join(os.path.dirname(os.path.realpath(__file__)), '..'))\n",
    "\n",
    "filename = \"0001.bin\"\n",
    "mlog = mavutil.mavlink_connection(filename, planner_format=True,\n",
    "                                  notimestamps=True,\n",
    "                                  robust_parsing=True)\n",
    "\n",
    "while True:\n",
    "    m = mlog.recv_match(condition=None, blocking=True)\n",
    "    if m is None:\n",
    "        break\n",
    "    if opts.notimestamps:\n",
    "        print(\"%s\" % m)\n",
    "    else:\n",
    "        print(\"%s.%02u: %s\" % (\n",
    "            time.strftime(\"%Y-%m-%d %H:%M:%S\",\n",
    "                          time.localtime(m._timestamp)),\n",
    "            int(m._timestamp*100.0)%100, m))"
   ]
  },
  {
   "cell_type": "code",
   "execution_count": null,
   "metadata": {},
   "outputs": [],
   "source": []
  }
 ],
 "metadata": {
  "kernelspec": {
   "display_name": "Python 3",
   "language": "python",
   "name": "python3"
  },
  "language_info": {
   "codemirror_mode": {
    "name": "ipython",
    "version": 3
   },
   "file_extension": ".py",
   "mimetype": "text/x-python",
   "name": "python",
   "nbconvert_exporter": "python",
   "pygments_lexer": "ipython3",
   "version": "3.5.2"
  }
 },
 "nbformat": 4,
 "nbformat_minor": 2
}
