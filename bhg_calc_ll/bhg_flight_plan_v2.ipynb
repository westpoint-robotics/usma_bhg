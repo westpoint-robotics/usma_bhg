{
 "cells": [
  {
   "cell_type": "code",
   "execution_count": 1,
   "metadata": {},
   "outputs": [],
   "source": [
    "import os\n",
    "import matplotlib\n",
    "import matplotlib.pyplot as plt\n",
    "import matplotlib.lines as mlines\n",
    "import math\n",
    "from LatLongUTMconversion import LLtoUTM, UTMtoLL\n",
    "import mission_plan_v2 as mp"
   ]
  },
  {
   "cell_type": "code",
   "execution_count": 2,
   "metadata": {},
   "outputs": [],
   "source": [
    "# Function definitions\n",
    "\n",
    "def dist_2points(x1, y1, x2, y2):\n",
    "    distance = math.sqrt(((x1-x2)**2)+((y1-y2)**2))\n",
    "    return distance\n",
    "\n",
    "def get_offset_coords(x, y, slope, dist):\n",
    "    new_x = x + dist*math.sqrt( 1/(1+math.pow(slope,2)) )\n",
    "    new_y = y + slope*dist*math.sqrt( 1/(1+math.pow(slope,2)) )\n",
    "    return(new_x,new_y)\n",
    "\n",
    "def dist_2points_ll(lat1, lon1, lat2, lon2):\n",
    "    (zone,x1,y1)=LLtoUTM(23, lat1, lon1)\n",
    "    (zone,x2,y2)=LLtoUTM(23, lat2, lon2)\n",
    "    distance = math.sqrt(((x1-x2)**2)+((y1-y2)**2))\n",
    "    return distance"
   ]
  },
  {
   "cell_type": "code",
   "execution_count": 3,
   "metadata": {},
   "outputs": [],
   "source": [
    "#Original White line measurements in [lattitude, longitude]\n",
    "lane1_sp = [41.3907127,-73.9534075]\n",
    "lane1_ep = [41.3915399,-73.9529767]"
   ]
  },
  {
   "cell_type": "code",
   "execution_count": 16,
   "metadata": {},
   "outputs": [
    {
     "name": "stdout",
     "output_type": "stream",
     "text": [
      "The distance between two points is   0.1392 m\n"
     ]
    }
   ],
   "source": [
    "# Two points difference\n",
    "check_pt1 = [lane1_sp[0],lane1_sp[1]]\n",
    "#check_pt1 = [41.3907377, -73.9534922]\n",
    "check_pt2 = [41.3907116, -73.9534067]\n",
    "\n",
    "#wp1:(41.3906877, -73.9533228)\n",
    "#wp2:(41.3915149, -73.952892)\n",
    "#wp3:(41.3915649, -73.9530614)\n",
    "#wp4:(41.3907377, -73.9534922)\n",
    "\n",
    "print(\"The distance between two points is %8.4f m\" % (dist_2points_ll(check_pt1[0],check_pt1[1],check_pt2[0],check_pt2[1])))"
   ]
  },
  {
   "cell_type": "code",
   "execution_count": 5,
   "metadata": {},
   "outputs": [
    {
     "name": "stdout",
     "output_type": "stream",
     "text": [
      "Zone: 18T\n",
      "Line start point: (587498.8255874327, 4582659.774261947)\n",
      "Line  end  point: (587533.7327576679, 4582752.044661514)\n",
      "Distance between 2 points is:    98.65 m\n"
     ]
    }
   ],
   "source": [
    "# Convert line coords to UTM and show distance\n",
    "(zone,easting,northing)=LLtoUTM(23, lane1_sp[0], lane1_sp[1])\n",
    "lane1_utm_sp = (easting,northing)\n",
    "\n",
    "(zone,easting,northing)=LLtoUTM(23, lane1_ep[0], lane1_ep[1])\n",
    "lane1_utm_ep = (easting,northing)\n",
    "\n",
    "print(\"Zone: \" + str(zone))\n",
    "print(\"Line start point: \" + str(lane1_utm_sp))\n",
    "print(\"Line  end  point: \" + str(lane1_utm_ep))\n",
    "dist = dist_2points(lane1_utm_sp[0], lane1_utm_sp[1], lane1_utm_ep[0], lane1_utm_ep[1]) \n",
    "print(\"Distance between 2 points is: %8.2f m\" % (dist))"
   ]
  },
  {
   "cell_type": "code",
   "execution_count": 6,
   "metadata": {},
   "outputs": [
    {
     "name": "stdout",
     "output_type": "stream",
     "text": [
      "The slope of the line is:     2.6433 \n",
      "The perpendicular slope is:  -0.3783\n",
      "Yaw in degrees:    69.28 deg.\n"
     ]
    }
   ],
   "source": [
    "# Compute slope and perpendicular slope\n",
    "lane1_slope = (lane1_utm_sp[1] - lane1_utm_ep[1]) / (lane1_utm_sp[0] - lane1_utm_ep[0])\n",
    "line_slope = -1/lane1_slope\n",
    "print(\"The slope of the line is:   %8.4f \\nThe perpendicular slope is: %8.4f\" % (lane1_slope, -1/lane1_slope))\n",
    "yaw = math.atan(lane1_slope)\n",
    "print(\"Yaw in degrees: %8.2f deg.\" % (yaw*180/math.pi))"
   ]
  },
  {
   "cell_type": "code",
   "execution_count": 7,
   "metadata": {},
   "outputs": [],
   "source": [
    "# Mission parameters\n",
    "# TODO_JH: ADD Cam_dir = \"forward\" and \"perependicular\"\n",
    "# For \"perpendicular\" \n",
    "# >> cam_mount_angle_rad = (cam_mount_angle_rad*math.pi/180)\n",
    "# >> cam_fov_rad = (cam_fov_rad*math.pi/180)\n",
    "# >> alt_req = (HPC+LPC) * math.sin(cam_mount_angle_rad) / (2* math.tan(cam_fov_rad/2))\n",
    "\n",
    "\n",
    "cam_mount_angle = 60    # in degrees\n",
    "cam_fov = 40.0         # in degrees\n",
    "speed = 3.5             # in m/s\n",
    "\n",
    "HPC = 5.0               # in meters\n",
    "LPC = 10.0              # in meters"
   ]
  },
  {
   "cell_type": "code",
   "execution_count": 8,
   "metadata": {},
   "outputs": [
    {
     "name": "stdout",
     "output_type": "stream",
     "text": [
      "HPC: 5.00 m , LPC: 10.00 m\n",
      "The required altitude is: 14.772 m\n",
      "The offset distance is: 7.605 m (Cam mount: 60.00 deg., FOV: 40.00 deg.)\n"
     ]
    }
   ],
   "source": [
    "# Scanning distance d_scan (d_far - d_near)\n",
    "angle_far = (90 - cam_mount_angle + cam_fov/2)     # in degrees\n",
    "angle_near = (90 - cam_mount_angle - cam_fov/2)    # in degrees\n",
    "angle_far_rad = (angle_far*math.pi/180)             # in radian\n",
    "angle_near_rad = (angle_near*math.pi/180)           # in radian\n",
    "# d_scan = altitude * (math.tan(angle_far_rad) - math.tan(angle_near_rad))\n",
    "\n",
    "# Input: d_scan requited total scanning distance \n",
    "d_scan = HPC + LPC\n",
    "\n",
    "# Output: alt_req (for required d_s with gobi)\n",
    "alt_req = d_scan / (math.tan(angle_far_rad) - math.tan(angle_near_rad))\n",
    "\n",
    "print(\"HPC: %2.2f m , LPC: %2.2f m\" % (HPC,LPC))\n",
    "print(\"The required altitude is: %5.3f m\" % (alt_req))\n",
    "\n",
    "# Compute offset from the line\n",
    "d_offset = HPC + alt_req * math.tan(angle_near_rad) # Offset is HPC + d_near \n",
    "\n",
    "print(\"The offset distance is: %5.3f m (Cam mount: %4.2f deg., FOV: %4.2f deg.)\" % (d_offset,cam_mount_angle, cam_fov))"
   ]
  },
  {
   "cell_type": "code",
   "execution_count": 9,
   "metadata": {
    "scrolled": false
   },
   "outputs": [
    {
     "name": "stdout",
     "output_type": "stream",
     "text": [
      "wp1:(41.3906877, -73.9533228)\n",
      "wp2:(41.3915149, -73.952892)\n",
      "wp3:(41.3915649, -73.9530614)\n",
      "wp4:(41.3907377, -73.9534922)\n",
      "(587498.8255874327, 4582659.774261947)\n"
     ]
    }
   ],
   "source": [
    "pnt_1 = get_offset_coords(lane1_utm_sp[0],lane1_utm_sp[1],line_slope,d_offset)\n",
    "pnt_2 = get_offset_coords(lane1_utm_ep[0],lane1_utm_ep[1],line_slope,d_offset)\n",
    "pnt_3 = get_offset_coords(lane1_utm_ep[0],lane1_utm_ep[1],line_slope,(-1*d_offset))\n",
    "pnt_4 = get_offset_coords(lane1_utm_sp[0],lane1_utm_sp[1],line_slope,(-1*d_offset))\n",
    "\n",
    "ll_pt1 = UTMtoLL(23, pnt_1[1], pnt_1[0], '18T')\n",
    "ll_pt2 = UTMtoLL(23, pnt_2[1], pnt_2[0], '18T')\n",
    "ll_pt3 = UTMtoLL(23, pnt_3[1], pnt_3[0], '18T')\n",
    "ll_pt4 = UTMtoLL(23, pnt_4[1], pnt_4[0], '18T')\n",
    "\n",
    "print(\"wp1:\" + str(ll_pt1))\n",
    "print(\"wp2:\" + str(ll_pt2))\n",
    "print(\"wp3:\" + str(ll_pt3))\n",
    "print(\"wp4:\" + str(ll_pt4))\n",
    "print(lane1_utm_sp)\n"
   ]
  },
  {
   "cell_type": "code",
   "execution_count": 10,
   "metadata": {
    "scrolled": true
   },
   "outputs": [
    {
     "data": {
      "image/png": "[encoded data removed]",
      "text/plain": [
       "<matplotlib.figure.Figure at 0x7f4013bd0c50>"
      ]
     },
     "metadata": {
      "needs_background": "light"
     },
     "output_type": "display_data"
    }
   ],
   "source": [
    "plt.figure(1)\n",
    "#plt.gca().add_line(mlines.Line2D([lane1_sp[0],lane1_sp[1]], [lane1_ep[0],lane1_ep[1]]))\n",
    "plt.plot([lane1_sp[0],lane1_ep[0]], [lane1_sp[1],lane1_ep[1]], marker='*',color='blue')\n",
    "plt.plot(ll_pt1[0],ll_pt1[1], 'g.')\n",
    "plt.plot(ll_pt2[0],ll_pt2[1], 'g.')\n",
    "plt.plot(ll_pt3[0],ll_pt3[1], 'g.')\n",
    "plt.plot(ll_pt4[0],ll_pt4[1], 'g.')\n",
    "\n",
    "plt.axis('equal');"
   ]
  },
  {
   "cell_type": "code",
   "execution_count": 11,
   "metadata": {
    "scrolled": true
   },
   "outputs": [
    {
     "name": "stdout",
     "output_type": "stream",
     "text": [
      "Waypoints are \n",
      "[41.3906877, -73.9533228, 14.772116295183123, 3]\n",
      "[41.3915149, -73.952892, 14.772116295183123, 2]\n",
      "[41.3915649, -73.9530614, 14.772116295183123, 3]\n",
      "[41.3915649, -73.9530614, 14.772116295183123, 5]\n",
      "[41.3907377, -73.9534922, 14.772116295183123, 0]\n",
      "\n",
      "++ New flight plan is generated!!\n"
     ]
    }
   ],
   "source": [
    "yaw = 289\n",
    "\n",
    "# Waypoints + Lane1 starting point\n",
    "wp1 = [ll_pt1[0],ll_pt1[1],alt_req,3]\n",
    "wp2 = [ll_pt2[0],ll_pt2[1],alt_req,2] \n",
    "wp3 = [ll_pt3[0],ll_pt3[1],alt_req,3] \n",
    "wp4 = [ll_pt3[0],ll_pt3[1],alt_req,5] \n",
    "wp5 = [ll_pt4[0],ll_pt4[1],alt_req,0]\n",
    "\n",
    "waypoints = [wp1,wp2,wp3,wp4,wp5]\n",
    "sp_lane1 = [lane1_sp[0],lane1_sp[1],alt_req,3]\n",
    "# TODO_JH: Update RTK (Lat,Lon) DATA\n",
    "# RTK points\n",
    "rtk_pt1 = [41.390651194,-73.953278861,alt_req,3]\n",
    "rtk_pt2 = [41.390823944,-73.953626667,alt_req,3]\n",
    "rtk_pt3 = [41.391267139,-73.953483611,alt_req,3]\n",
    "rtk_pt4 = [41.390525194,-73.953372389,alt_req,3]\n",
    "\n",
    "# 115 is MAV_CMD_CONDITION_YAW: [115, rot_angle] - If (rot_angle) is negative, then it rotates CCW.\n",
    "# 178 is MAV_CMD_DO_CHANGE_SPEED: [178, speed]\n",
    "# 16 is MAV_CMD_NAV_WAYPOINT\n",
    "dummy_input = 0;\n",
    "mission_input = [rtk_pt1,sp_lane1,[115,yaw,0],wp1,[178,speed,0],wp2,wp3,[115,-180,1],wp4,wp5,sp_lane1]\n",
    "\n",
    "with open('bhg_flight_v2.plan', 'w') as f:\n",
    "    plan = mp.make_plan(mission_input,speed,yaw)\n",
    "    #print(plan)\n",
    "    f.write(plan)\n",
    "print('Waypoints are \\n'+str(wp1)+'\\n'+str(wp2)+'\\n'+str(wp3)+'\\n'+str(wp4)+'\\n'+str(wp5))\n",
    "print(\"\\n++ New flight plan is generated!!\")"
   ]
  },
  {
   "cell_type": "code",
   "execution_count": null,
   "metadata": {},
   "outputs": [],
   "source": []
  },
  {
   "cell_type": "code",
   "execution_count": null,
   "metadata": {},
   "outputs": [],
   "source": []
  },
  {
   "cell_type": "code",
   "execution_count": null,
   "metadata": {},
   "outputs": [],
   "source": []
  },
  {
   "cell_type": "code",
   "execution_count": null,
   "metadata": {},
   "outputs": [],
   "source": []
  },
  {
   "cell_type": "code",
   "execution_count": null,
   "metadata": {},
   "outputs": [],
   "source": []
  },
  {
   "cell_type": "code",
   "execution_count": null,
   "metadata": {},
   "outputs": [],
   "source": []
  },
  {
   "cell_type": "code",
   "execution_count": null,
   "metadata": {},
   "outputs": [],
   "source": []
  }
 ],
 "metadata": {
  "kernelspec": {
   "display_name": "Python 2",
   "language": "python",
   "name": "python2"
  },
  "language_info": {
   "codemirror_mode": {
    "name": "ipython",
    "version": 2
   },
   "file_extension": ".py",
   "mimetype": "text/x-python",
   "name": "python",
   "nbconvert_exporter": "python",
   "pygments_lexer": "ipython2",
   "version": "2.7.17"
  }
 },
 "nbformat": 4,
 "nbformat_minor": 2
}
